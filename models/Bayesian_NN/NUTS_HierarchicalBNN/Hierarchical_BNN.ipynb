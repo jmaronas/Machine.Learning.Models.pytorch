{
 "cells": [
  {
   "cell_type": "code",
   "execution_count": null,
   "metadata": {},
   "outputs": [],
   "source": [
    "# Hierarchical BNN inference with NUTS. The model follows the one from Radford's Neal Thesis"
   ]
  },
  {
   "cell_type": "code",
   "execution_count": null,
   "metadata": {},
   "outputs": [],
   "source": [
    "import arviz as az\n",
    "import numpy\n",
    "import matplotlib.pyplot as plt\n",
    "from cmdstanpy import CmdStanModel\n",
    "import cmdstanpy\n",
    "import torch\n",
    "import os\n",
    "\n",
    "# Uncomment and run\n",
    "#cmdstanpy.install_cmdstan()"
   ]
  },
  {
   "cell_type": "code",
   "execution_count": null,
   "metadata": {},
   "outputs": [],
   "source": [
    "## Choose model compilation (for this check the python file attached)\n",
    "cpp_options = {}\n",
    "stan_threads = None\n"
   ]
  },
  {
   "cell_type": "code",
   "execution_count": null,
   "metadata": {},
   "outputs": [],
   "source": [
    "## Compile the program\n",
    "sm = CmdStanModel(\n",
    "                  stan_file   = './stan_files/Bayesian_Neural_Net_categorical_GLM_no_partial_sum.stan', \n",
    "                  cpp_options = cpp_options\n",
    "                 )\n",
    "\n"
   ]
  },
  {
   "cell_type": "code",
   "execution_count": null,
   "metadata": {},
   "outputs": [],
   "source": [
    "## Load the data\n",
    "N = 100\n",
    "C = 10\n",
    "\n",
    "x = numpy.random.randn(N,C)\n",
    "y = numpy.random.randint(C, size = (N,))\n",
    "\n",
    "y += 1"
   ]
  },
  {
   "cell_type": "code",
   "execution_count": null,
   "metadata": {},
   "outputs": [],
   "source": [
    "## Input data to the program\n",
    "\n",
    "## neural net topology\n",
    "num_hidden_layers     = 1\n",
    "num_neurons_per_layer = 128\n",
    "\n",
    "## prior definition\n",
    "mu_w   = 0.0\n",
    "    \n",
    "BNN_data = {\n",
    "                'N'           : N,\n",
    "                'C'           : C,\n",
    "                'x'           : x,\n",
    "                'y'           : y,\n",
    "                'mu_w'        : mu_w,\n",
    "                'num_hidden'  : num_hidden_layers,\n",
    "                'num_neurons' : num_neurons_per_layer\n",
    "            }\n",
    "\n",
    "output_dir = os.path.join('./results_hierarchical_bnn/')"
   ]
  },
  {
   "cell_type": "code",
   "execution_count": null,
   "metadata": {},
   "outputs": [],
   "source": [
    "## ==========================\n",
    "## Regarding Chain Generation\n",
    "\n",
    "iter_sampling = 1000    # number of samples to draw after warm up\n",
    "chains        = 3     # number of chains sampled in parallel\n",
    "iter_warmup   = 300  # number of iterations of the warm up stage\n",
    "thin          = 1     # chain thinning. Can improve ESS\n",
    "\n",
    "## ====================\n",
    "## NUTS sampler\n",
    "max_treedepth = 10\n",
    "\n",
    "## Step size adaptation\n",
    "delta = 0.8  # acceptance rate probabilty \n",
    "# Below parameters are not available through the cmdstanpy interface \n",
    "# gamma = 0.05 # from nesterov algorithm. Stan recommends default\n",
    "# kappa = 0.75 # from nesterov algorithm. Stan recommends default  \n",
    "# t_0   = 10   # from nesterov algorithm. Stan recommends default\n",
    "\n",
    "\n",
    "## Adaptation stage\n",
    "adapt_engaged       = True  # If false no adaptation is done\n",
    "adapt_init_phase    = 75 # correspond to adaptation step I   in Stan reference manual. Specifies width in samples\n",
    "adapt_metric_window = 25 # correspond to adaptation step II  in Stan reference manual. Specifies width in samples\n",
    "adapt_step_size     = 50 # correspond to adaptation step III in Stan reference manual. Specifies width in samples\n",
    "\n",
    "if not adapt_engaged:\n",
    "    delta               = None\n",
    "    adapt_init_phase    = None\n",
    "    adapt_metric_window = None\n",
    "    adapt_step_size     = None\n",
    "    iter_warmup         = None\n",
    "\n",
    "## ====================\n",
    "## Specification for kinetic energy\n",
    "metric_M = 'diag_e' # the shape of the correlation matrix M. This is very important, check 2014 MLSS talk from Betancourt on youtube\n",
    "                     # options diag_e. dense_e will handle correlations \n",
    "\n",
    "\n",
    "fit_sampler  = sm.sample(\n",
    "                         # data passed to stan\n",
    "                         data          = BNN_data, \n",
    "    \n",
    "                         # ===\n",
    "                         # specification about the chain generated\n",
    "                         iter_sampling     = iter_sampling, \n",
    "                         chains            = chains, \n",
    "                         threads_per_chain = stan_threads, # number of threads per chain when STAN_THREADS are activated.\n",
    "                                                # this threads are used to parallelize the reduce_sum computations        \n",
    "    \n",
    "                         iter_warmup   = iter_warmup, \n",
    "                         save_warmup   = True,  # warm up samples are kept or not\n",
    "    \n",
    "                         seed          = 1,\n",
    "                    \n",
    "                         # ===\n",
    "                         # optimization of step size\n",
    "                         adapt_delta = delta,\n",
    "                         # gamma = gamma,\n",
    "                         # kappa = kappa,\n",
    "                         # t_0   = t_0,\n",
    "                    \n",
    "                         # ===\n",
    "                         # adaptation stage\n",
    "                         adapt_engaged       = adapt_engaged,           \n",
    "                         adapt_init_phase    = adapt_init_phase,\n",
    "                         adapt_metric_window = adapt_metric_window,\n",
    "                         adapt_step_size     = adapt_step_size,\n",
    "\n",
    "                         # ===\n",
    "                         # Kinetic energy\n",
    "                         metric = metric_M,\n",
    "    \n",
    "    \n",
    "                         # ===\n",
    "                         # Config things\n",
    "                         output_dir    = output_dir,\n",
    "                         show_progress = 'notebook',\n",
    "                         save_diagnostics = True,\n",
    "                         validate_csv = True\n",
    "                        )\n"
   ]
  },
  {
   "cell_type": "code",
   "execution_count": null,
   "metadata": {},
   "outputs": [],
   "source": [
    "#### =========================== ####\n",
    "#### == Run CMDSTAN diagnoise == ####\n",
    "print(fit_sampler.diagnose())\n"
   ]
  },
  {
   "cell_type": "code",
   "execution_count": null,
   "metadata": {},
   "outputs": [],
   "source": [
    "#### =========================== ####\n",
    "#### == Print Sampler summary == ####\n",
    "print(fit_sampler.summary())"
   ]
  },
  {
   "cell_type": "code",
   "execution_count": null,
   "metadata": {},
   "outputs": [],
   "source": [
    "#### ============================== ####\n",
    "#### == Get Posterior Parameters == ####\n",
    "# Posterior variables \n",
    "W_inp = fit_sampler.stan_variable(name = 'Winp')\n",
    "W_out = fit_sampler.stan_variable(name = 'Wout')\n",
    "W_h   = fit_sampler.stan_variable(name = 'Wh')\n",
    "\n",
    "print(\" === WEIGHTS === \")\n",
    "print('W_inp', W_inp.shape)\n",
    "print('W_out', W_out.shape)\n",
    "print('W_h'  , W_h.shape)\n",
    "\n",
    "print(\" === Bias === \")\n",
    "b_inp = fit_sampler.stan_variable(name = 'binp')\n",
    "b_out = fit_sampler.stan_variable(name = 'bout')\n",
    "b_h   = fit_sampler.stan_variable(name = 'bh')\n",
    "\n",
    "print('b_inp', b_inp.shape)\n",
    "print('b_out', b_out.shape)\n",
    "print('b_h'  , b_h.shape)\n",
    "\n",
    "print(\" === Hyperparam ===\")\n",
    "sigma = fit_sampler.stan_variable(name = 'sigma')\n",
    "\n",
    "print(sigma.shape)\n"
   ]
  },
  {
   "cell_type": "code",
   "execution_count": null,
   "metadata": {},
   "outputs": [],
   "source": [
    "_ = plt.hist(sigma, bins = 50)"
   ]
  }
 ],
 "metadata": {
  "kernelspec": {
   "display_name": "STAN",
   "language": "python",
   "name": "stan"
  },
  "language_info": {
   "codemirror_mode": {
    "name": "ipython",
    "version": 3
   },
   "file_extension": ".py",
   "mimetype": "text/x-python",
   "name": "python",
   "nbconvert_exporter": "python",
   "pygments_lexer": "ipython3",
   "version": "3.7.10"
  }
 },
 "nbformat": 4,
 "nbformat_minor": 4
}
